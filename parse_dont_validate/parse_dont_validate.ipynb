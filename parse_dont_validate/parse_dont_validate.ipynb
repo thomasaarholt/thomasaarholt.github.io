{
 "cells": [
  {
   "cell_type": "markdown",
   "metadata": {},
   "source": [
    "# Parse, don't validate - In Python with Examples\n",
    "by thomasaarholt"
   ]
  },
  {
   "cell_type": "markdown",
   "metadata": {},
   "source": [
    "**TLDR: How to use Python dataclass types to parse your data into types that give you assurance - with examples!**\n",
    "\n",
    "There's an [excellent post](https://lexi-lambda.github.io/blog/2019/11/05/parse-don-t-validate/) on using types in order to make guarantees about your data called \"[Parse, don't validate](https://lexi-lambda.github.io/blog/2019/11/05/parse-don-t-validate/)\", from 2019. If you haven't, go read it! The code examples it uses are written in Haskell, and while that may feel strange to you, the post really is worth reading (and coming back to as you mature)."
   ]
  },
  {
   "cell_type": "markdown",
   "metadata": {},
   "source": [
    "## Parse, don't validate in Python"
   ]
  },
  {
   "cell_type": "markdown",
   "metadata": {},
   "source": [
    "There's another [blog post](https://stianlagstad.no/2022/05/parse-dont-validate-python-edition/) by Stian Lagstad that represents thosesame ideas in Python. In this blog post I want to extend those ideas with a fuller example to drive home how exactly this all works.\n",
    "\n",
    "In his Python blog post, Stian shows that it might at first seem sensible to use a single class to describe *all states* that an order can be at (created, accepted, paid and shipped):"
   ]
  },
  {
   "cell_type": "code",
   "execution_count": null,
   "metadata": {},
   "outputs": [],
   "source": [
    "@dataclass\n",
    "class Order:\n",
    "    id: UUID\n",
    "    customer: Customer\n",
    "    created_at: datetime\n",
    "    accepted_at: Optional[datetime]\n",
    "    paid_at: optional[datetime]\n",
    "    shipped_at: Optional[datetime]"
   ]
  },
  {
   "cell_type": "markdown",
   "metadata": {},
   "source": [
    "The issue with this is that when you write your `ship()` method/function, you need to validate that the order actually is ready for shipping: The type hinting of `paid_at: Optional[datetime]` means that we can't statically know from the type if the order has been paid yet or not - it might be `None`:"
   ]
  },
  {
   "cell_type": "code",
   "execution_count": null,
   "metadata": {},
   "outputs": [],
   "source": [
    "def ship(self) -> Order:\n",
    "    if paid_at is None: # we have to write these ifs all the time\n",
    "        raise ValueError(\"Uh oh, order not paid yet!\")\n",
    "    # your shipping logic here\n",
    "    self.shipped_at = datetime.now()\n",
    "    return self"
   ]
  },
  {
   "cell_type": "markdown",
   "metadata": {},
   "source": [
    "This sort of validation would be necessary in all functions that take an `Order` at the second stage onwards for a type checker to guarantee that we are shipping an order that has been paid for. This creates quite a bit of boilerplate, and it means that all `Order`s have `ship()` as a method, even if it is not yet ready for shipping!\n",
    "\n",
    "Instead, Stian draws on the parent article and argues that it it is better to use one class for each state of the order:"
   ]
  },
  {
   "cell_type": "code",
   "execution_count": 1,
   "metadata": {},
   "outputs": [],
   "source": [
    "class ReceivedOrder:\n",
    "    ...\n",
    "class AcceptedOrder:\n",
    "    ...\n",
    "class PaidOrder:\n",
    "    ...\n",
    "class ShippedOrder:\n",
    "    ..."
   ]
  },
  {
   "cell_type": "markdown",
   "metadata": {},
   "source": [
    "Using these types, we can have the type checker tell us that we can't pass a `ReceivedOrder` to a `ship` function, or that the `.ship()` method doesn't exist, since it would only exist on the `PaidOrder`."
   ]
  },
  {
   "cell_type": "markdown",
   "metadata": {},
   "source": [
    "## Extending the Order example"
   ]
  },
  {
   "cell_type": "markdown",
   "metadata": {},
   "source": [
    "We're going to use dataclasses for this, as they're provide a great interface for connecting data and methods in a simple wrapper. We could also use pydantic dataclasses or basemodels, which let us make further guarantees about our data, but since we're building on Stian's dataclass blog post here, we'll leave that for a future post.\n",
    "\n",
    "\n",
    "Now, let's take a look at the first two classes, introduce a `Customer` class and talk about some complexity that we have to make a choice about."
   ]
  },
  {
   "cell_type": "code",
   "execution_count": 2,
   "metadata": {},
   "outputs": [],
   "source": [
    "from __future__ import annotations # allows using not-yet-defined classes in type hints\n",
    "from dataclasses import dataclass, field\n",
    "from uuid import uuid4, UUID\n",
    "from datetime import datetime\n",
    "\n",
    "@dataclass\n",
    "class Customer:\n",
    "    \"Information on the customer.\"\n",
    "    name: str\n",
    "\n",
    "@dataclass\n",
    "class ReceivedOrder:\n",
    "    customer: Customer\n",
    "    id: UUID = field(default_factory=uuid4)\n",
    "    created_at: datetime = field(default_factory=datetime.now)\n",
    "\n",
    "    def accept(self) -> AcceptedOrder:\n",
    "        # some acceptance logic\n",
    "        return AcceptedOrder(\n",
    "            id=self.id,\n",
    "            customer=self.customer,\n",
    "            created_at=self.created_at,\n",
    "        )\n",
    "\n",
    "@dataclass\n",
    "class AcceptedOrder:\n",
    "    customer: Customer\n",
    "    id: UUID\n",
    "    created_at: datetime\n",
    "    accepted_at: datetime = field(default_factory=datetime.now)\n",
    "\n",
    "    def paid(self) -> PaidOrder:\n",
    "        # some payment logic\n",
    "        ..."
   ]
  },
  {
   "cell_type": "markdown",
   "metadata": {},
   "source": [
    "Here we create a simple class for our customer information (it only contains a name in this example). The `ReceivedOrder` contains our required fields for an order that has been received, and sets a few of them automatically by default. A UUID is an (extremely likely) unique string like `\"5e976cdb-4ec9-4926-bb22-a333eb898b12\"`. When setting default values like this it is important to use a \"default factory\", which ensures that we don't instantiate `id` or `created_at` *when we create the class*, but when we *call the class*. Otherwise *all* our instances created from the dataclass would have the same values:"
   ]
  },
  {
   "cell_type": "code",
   "execution_count": 3,
   "metadata": {},
   "outputs": [
    {
     "name": "stdout",
     "output_type": "stream",
     "text": [
      "Without default_factory\n",
      "2023-09-05 13:04:44.214705\n",
      "2023-09-05 13:04:44.214705\n",
      "With default_factory\n",
      "2023-09-05 13:04:44.217312\n",
      "2023-09-05 13:04:44.217384\n"
     ]
    }
   ],
   "source": [
    "@dataclass\n",
    "class WithoutDefaultFactory:\n",
    "    timestamp: datetime = datetime.now()\n",
    "\n",
    "print(\"Without default_factory\")\n",
    "print(WithoutDefaultFactory().timestamp) # 2023-09-05 07:04:07.790351\n",
    "print(WithoutDefaultFactory().timestamp) # 2023-09-05 07:04:07.790351 (exact same!)\n",
    "\n",
    "@dataclass\n",
    "class WithDefaultFactory:\n",
    "    timestamp: datetime = field(default_factory=datetime.now)\n",
    "\n",
    "print(\"With default_factory\")\n",
    "print(WithDefaultFactory().timestamp) # 2023-09-05 07:07:10.292198\n",
    "print(WithDefaultFactory().timestamp) # 2023-09-05 07:07:10.292272 (different!)"
   ]
  },
  {
   "cell_type": "markdown",
   "metadata": {},
   "source": [
    "## An issue with inheritance and methods that no longer apply"
   ]
  },
  {
   "cell_type": "markdown",
   "metadata": {},
   "source": [
    "It would have been nice to use inheritance for the AcceptedOrder:\n"
   ]
  },
  {
   "cell_type": "code",
   "execution_count": 4,
   "metadata": {},
   "outputs": [],
   "source": [
    "@dataclass\n",
    "class AcceptedOrder(ReceivedOrder):\n",
    "    accepted_at: datetime = field(default_factory=datetime.now)\n",
    "    \n",
    "    def paid(self) -> PaidOrder:\n",
    "        ..."
   ]
  },
  {
   "cell_type": "markdown",
   "metadata": {},
   "source": [
    "That would have left us with less repetition when defining the fields, as we would inherit the fields from `ReceivedOrder`. Unfortunately, it would also mean that a `ReceivedOrder` would be able to call `.accept()`, a call that doesn't make sense. Therefore we don't use inheritance, but write out the field names manually.\n",
    "\n",
    "An alternative here would be to use inheritance, but write an `accept` *function* instead of a *method*. Then we nicely inherit the fields, but we lose the nice ability to autocomplete methods from our dataclasses, and could just have used [namedtuples](https://docs.python.org/3/library/collections.html#collections.namedtuple) instead. It's up to the individual on what they would prefer. This would look like the following:\n"
   ]
  },
  {
   "cell_type": "code",
   "execution_count": 5,
   "metadata": {},
   "outputs": [],
   "source": [
    "@dataclass\n",
    "class ReceivedOrder:\n",
    "    customer: Customer\n",
    "    id: UUID = field(default_factory=uuid4)\n",
    "    created_at: datetime = field(default_factory=datetime.now)\n",
    "\n",
    "@dataclass\n",
    "class AcceptedOrder(ReceivedOrder):\n",
    "    accepted_at: datetime = field(default_factory=datetime.now)\n",
    "\n",
    "def accept_order(order: ReceivedOrder) -> AcceptedOrder:\n",
    "    \"This is now a function, not a method.\"\n",
    "    # some acceptance logic\n",
    "    return AcceptedOrder(\n",
    "        customer=self.customer,\n",
    "        id=self.id,\n",
    "        created_at=self.created_at,\n",
    "    )\n",
    "\n",
    "def paid(order: AcceptedOrder) -> \"PaidOrder\":\n",
    "    \"Also no longer a method.\"\n",
    "    ...\n"
   ]
  },
  {
   "cell_type": "markdown",
   "metadata": {},
   "source": [
    "## Following arguments that have default values with arguments without them"
   ]
  },
  {
   "cell_type": "markdown",
   "metadata": {},
   "source": [
    "The eagle-eyed among you might have noticed the I switched the order of the fields `customer` and `id` from Stian's post. That is because by default, Python doesn't let you follow an argument that has a default value with an argument without one: `def foo(name: str = \"Thomas\", age: int): ...` is not allowed. In dataclasses, we actually have a workaround by passing `kw_only=True` to the dataclass call:"
   ]
  },
  {
   "cell_type": "code",
   "execution_count": 6,
   "metadata": {},
   "outputs": [],
   "source": [
    "@dataclass(kw_only=True)\n",
    "class ReceivedOrder:\n",
    "    id: UUID = field(default_factory=uuid4)\n",
    "    customer: Customer\n",
    "    created_at: datetime = field(default_factory=datetime.now)\n",
    "    "
   ]
  },
  {
   "cell_type": "markdown",
   "metadata": {},
   "source": [
    "Now all arguments have to be *named* in the `ReceivedOrder()` call, but that is fine for us. This also avoids errors when subclassing a dataclass that has a default argument, and adding a field that *doesn't* have a default value to its subclass. The `kw_only` argument was new in Python 3.10.\n",
    "\n",
    "Nearing the end now with one final safety feature: It doesn't make sense for `AcceptedOrder` to have a default value for `created_at`. That would mean that both the received time and the accepted time would be the same (or very nearly the same). To avoid setting these values by accident we require them to be explicitly set.\n",
    "\n",
    "\n",
    "Our final, fleshed out no-subclass implementation would then look like this:"
   ]
  },
  {
   "cell_type": "markdown",
   "metadata": {},
   "source": [
    "## Full example"
   ]
  },
  {
   "cell_type": "code",
   "execution_count": 7,
   "metadata": {},
   "outputs": [],
   "source": [
    "from __future__ import annotations # allows using not-yet-defined classes in type hints\n",
    "from dataclasses import dataclass, field\n",
    "from uuid import uuid4, UUID\n",
    "from datetime import datetime\n",
    "\n",
    "@dataclass\n",
    "class Customer:\n",
    "    \"Information on the customer.\"\n",
    "    name: str\n",
    "\n",
    "@dataclass(kw_only=True)\n",
    "class ReceivedOrder:\n",
    "    id: UUID = field(default_factory=uuid4)\n",
    "    customer: Customer\n",
    "    created_at: datetime = field(default_factory=datetime.now)\n",
    "\n",
    "    def accept(self) -> AcceptedOrder:\n",
    "        # some acceptance logic\n",
    "        return AcceptedOrder(\n",
    "            id=self.id,\n",
    "            customer=self.customer,\n",
    "            created_at=self.created_at,\n",
    "        )\n",
    "\n",
    "@dataclass(kw_only=True)\n",
    "class AcceptedOrder:\n",
    "    id: UUID\n",
    "    customer: Customer\n",
    "    created_at: datetime\n",
    "    accepted_at: datetime = field(default_factory=datetime.now)\n",
    "\n",
    "    def pay(self) -> PaidOrder:\n",
    "        # some paying logic\n",
    "        return PaidOrder(\n",
    "            id=self.id,\n",
    "            customer=self.customer,\n",
    "            created_at=self.created_at,\n",
    "            accepted_at=self.accepted_at,\n",
    "        )\n",
    "    \n",
    "@dataclass(kw_only=True)\n",
    "class PaidOrder:\n",
    "    id: UUID\n",
    "    customer: Customer\n",
    "    created_at: datetime\n",
    "    accepted_at: datetime\n",
    "    paid_at: datetime = field(default_factory=datetime.now)\n",
    "\n",
    "    def ship(self) -> ShippedOrder:\n",
    "        # some shipping logic\n",
    "        return ShippedOrder(\n",
    "            id=self.id,\n",
    "            customer=self.customer,\n",
    "            created_at=self.created_at,\n",
    "            accepted_at=self.accepted_at,\n",
    "            paid_at=self.paid_at,\n",
    "        )\n",
    "\n",
    "@dataclass(kw_only=True)\n",
    "class ShippedOrder:\n",
    "    id: UUID\n",
    "    customer: Customer\n",
    "    created_at: datetime\n",
    "    accepted_at: datetime\n",
    "    paid_at: datetime\n",
    "    shipped_at: datetime = field(default_factory=datetime.now)"
   ]
  },
  {
   "cell_type": "markdown",
   "metadata": {},
   "source": [
    "We can now call these as follows:"
   ]
  },
  {
   "cell_type": "code",
   "execution_count": 8,
   "metadata": {},
   "outputs": [],
   "source": [
    "customer = Customer(name=\"John Doe\")\n",
    "shipped_order = ReceivedOrder(customer=customer).accept().pay().ship()"
   ]
  },
  {
   "cell_type": "markdown",
   "metadata": {},
   "source": [
    "Note that trying to call `.ship()` on a `ReceivedOrder` results in an error, exactly as we would like:"
   ]
  },
  {
   "cell_type": "code",
   "execution_count": 9,
   "metadata": {},
   "outputs": [
    {
     "ename": "AttributeError",
     "evalue": "'ReceivedOrder' object has no attribute 'ship'",
     "output_type": "error",
     "traceback": [
      "\u001b[0;31m---------------------------------------------------------------------------\u001b[0m",
      "\u001b[0;31mAttributeError\u001b[0m                            Traceback (most recent call last)",
      "Cell \u001b[0;32mIn[9], line 1\u001b[0m\n\u001b[0;32m----> 1\u001b[0m \u001b[43mReceivedOrder\u001b[49m\u001b[43m(\u001b[49m\u001b[43mcustomer\u001b[49m\u001b[38;5;241;43m=\u001b[39;49m\u001b[43mcustomer\u001b[49m\u001b[43m)\u001b[49m\u001b[38;5;241;43m.\u001b[39;49m\u001b[43mship\u001b[49m()\n",
      "\u001b[0;31mAttributeError\u001b[0m: 'ReceivedOrder' object has no attribute 'ship'"
     ]
    }
   ],
   "source": [
    "ReceivedOrder(customer=customer).ship()"
   ]
  },
  {
   "cell_type": "markdown",
   "metadata": {},
   "source": [
    "This is in contrast to the original Order class, where we would have to always check that variables had been set, have an overpopulated autocomplete and no typing guarantees that we are working with an order in the right state."
   ]
  },
  {
   "cell_type": "markdown",
   "metadata": {},
   "source": [
    "I hope you enjoyed my post. I can be contacted at my github username on gmail, always happy to take any critisism!"
   ]
  }
 ],
 "metadata": {
  "kernelspec": {
   "display_name": "Python 3 (ipykernel)",
   "language": "python",
   "name": "python3"
  },
  "language_info": {
   "codemirror_mode": {
    "name": "ipython",
    "version": 3
   },
   "file_extension": ".py",
   "mimetype": "text/x-python",
   "name": "python",
   "nbconvert_exporter": "python",
   "pygments_lexer": "ipython3",
   "version": "3.11.4"
  }
 },
 "nbformat": 4,
 "nbformat_minor": 4
}
